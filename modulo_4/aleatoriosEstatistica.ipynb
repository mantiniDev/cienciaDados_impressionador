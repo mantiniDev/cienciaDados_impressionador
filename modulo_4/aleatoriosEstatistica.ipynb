{
 "cells": [
  {
   "cell_type": "code",
   "execution_count": 26,
   "metadata": {},
   "outputs": [
    {
     "name": "stdout",
     "output_type": "stream",
     "text": [
      "Generator(PCG64)\n"
     ]
    }
   ],
   "source": [
    "import numpy as np\n",
    "rng = np.random.default_rng()\n",
    "print(rng)\n"
   ]
  },
  {
   "cell_type": "code",
   "execution_count": 27,
   "metadata": {},
   "outputs": [
    {
     "name": "stdout",
     "output_type": "stream",
     "text": [
      "8.004266198450491\n"
     ]
    }
   ],
   "source": [
    "num_aleatorio = rng.random() * 10\n",
    "print(num_aleatorio)"
   ]
  },
  {
   "cell_type": "code",
   "execution_count": 28,
   "metadata": {},
   "outputs": [
    {
     "name": "stdout",
     "output_type": "stream",
     "text": [
      "[17.724824   74.69861453 11.66516301]\n"
     ]
    }
   ],
   "source": [
    "array_numAleatorio = rng.random(3) * 100\n",
    "print(array_numAleatorio)"
   ]
  },
  {
   "cell_type": "code",
   "execution_count": 46,
   "metadata": {},
   "outputs": [
    {
     "name": "stdout",
     "output_type": "stream",
     "text": [
      "[ 63 166 148 115 114 178  62 154  80  64 128 196 160 164 157 167 126  69\n",
      " 175 117 125 105  77 189 167 146 110 173 131 116]\n"
     ]
    }
   ],
   "source": [
    "#gere dados de vendas falsos para 30 dias\n",
    "# Vamos supor que as vendas de um produto podem varias de 50 a 200 dias\n",
    "# Pode definir uma seed para garantir que os resultados sejam reproduziveis. \n",
    "rng = np.random.default_rng(seed=42)\n",
    "dados_vendas = rng.integers(low=50, high=200, size=30)\n",
    "print(dados_vendas)"
   ]
  },
  {
   "cell_type": "code",
   "execution_count": 47,
   "metadata": {},
   "outputs": [
    {
     "name": "stdout",
     "output_type": "stream",
     "text": [
      "12\n"
     ]
    }
   ],
   "source": [
    "print(np.argmax(dados_vendas) + 1)"
   ]
  },
  {
   "cell_type": "code",
   "execution_count": 48,
   "metadata": {},
   "outputs": [
    {
     "name": "stdout",
     "output_type": "stream",
     "text": [
      "129.5\n"
     ]
    }
   ],
   "source": [
    "print(np.median(dados_vendas))"
   ]
  },
  {
   "cell_type": "code",
   "execution_count": 50,
   "metadata": {},
   "outputs": [
    {
     "name": "stdout",
     "output_type": "stream",
     "text": [
      "114.7\n"
     ]
    }
   ],
   "source": [
    "print(np.percentile(dados_vendas, 30))"
   ]
  },
  {
   "cell_type": "code",
   "execution_count": 51,
   "metadata": {},
   "outputs": [
    {
     "name": "stdout",
     "output_type": "stream",
     "text": [
      "39.305300745149715\n"
     ]
    }
   ],
   "source": [
    "print(np.std(dados_vendas))"
   ]
  },
  {
   "cell_type": "code",
   "execution_count": 52,
   "metadata": {},
   "outputs": [
    {
     "name": "stdout",
     "output_type": "stream",
     "text": [
      "1544.9066666666665\n"
     ]
    }
   ],
   "source": [
    "print(np.var(dados_vendas))"
   ]
  }
 ],
 "metadata": {
  "kernelspec": {
   "display_name": "Python 3",
   "language": "python",
   "name": "python3"
  },
  "language_info": {
   "codemirror_mode": {
    "name": "ipython",
    "version": 3
   },
   "file_extension": ".py",
   "mimetype": "text/x-python",
   "name": "python",
   "nbconvert_exporter": "python",
   "pygments_lexer": "ipython3",
   "version": "3.12.3"
  }
 },
 "nbformat": 4,
 "nbformat_minor": 2
}
