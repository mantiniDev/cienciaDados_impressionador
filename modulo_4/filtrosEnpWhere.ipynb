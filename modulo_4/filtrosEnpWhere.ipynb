{
 "cells": [
  {
   "cell_type": "code",
   "execution_count": 4,
   "metadata": {},
   "outputs": [
    {
     "name": "stdout",
     "output_type": "stream",
     "text": [
      "3714.285714285714\n"
     ]
    }
   ],
   "source": [
    "import numpy as np\n",
    "\n",
    "salarios = np.array([3000, 3500, 4000, 2000, 4500, 4000, 5000])\n",
    "\n",
    "media_salarial = np.mean(salarios)\n",
    "\n",
    "print(media_salarial)"
   ]
  },
  {
   "cell_type": "code",
   "execution_count": 5,
   "metadata": {},
   "outputs": [
    {
     "name": "stdout",
     "output_type": "stream",
     "text": [
      "(array([2, 4, 5, 6], dtype=int64),)\n"
     ]
    }
   ],
   "source": [
    "funcionarios_acima_media = np.where(salarios > media_salarial)\n",
    "print(funcionarios_acima_media)"
   ]
  },
  {
   "cell_type": "code",
   "execution_count": 6,
   "metadata": {},
   "outputs": [
    {
     "name": "stdout",
     "output_type": "stream",
     "text": [
      "[4000 4500 4000 5000]\n"
     ]
    }
   ],
   "source": [
    "print(salarios[funcionarios_acima_media])"
   ]
  },
  {
   "cell_type": "code",
   "execution_count": 7,
   "metadata": {},
   "outputs": [
    {
     "name": "stdout",
     "output_type": "stream",
     "text": [
      "[4000 4500 4000 5000]\n"
     ]
    }
   ],
   "source": [
    "print(salarios[salarios > media_salarial])"
   ]
  },
  {
   "cell_type": "code",
   "execution_count": 8,
   "metadata": {},
   "outputs": [
    {
     "name": "stdout",
     "output_type": "stream",
     "text": [
      "['abaixo da média' 'abaixo da média' 'acima da média' 'abaixo da média'\n",
      " 'acima da média' 'acima da média' 'acima da média']\n"
     ]
    }
   ],
   "source": [
    "print(np.where(salarios > media_salarial,  \"acima da média\", \"abaixo da média\"))"
   ]
  },
  {
   "cell_type": "code",
   "execution_count": 9,
   "metadata": {},
   "outputs": [
    {
     "name": "stdout",
     "output_type": "stream",
     "text": [
      "[3000 3500 4000 2000 4500 4000 5000]\n",
      "[3300. 3850. 4000. 2200. 4500. 4000. 5000.]\n"
     ]
    }
   ],
   "source": [
    "salarios_bonus = np.where(salarios < media_salarial, salarios * 1.1, salarios)\n",
    "\n",
    "print(salarios)\n",
    "print(salarios_bonus)"
   ]
  },
  {
   "cell_type": "code",
   "execution_count": 10,
   "metadata": {},
   "outputs": [
    {
     "name": "stdout",
     "output_type": "stream",
     "text": [
      "(array([0, 1, 2, 4, 5], dtype=int64),)\n"
     ]
    }
   ],
   "source": [
    "print(np.where((salarios>= 3000) & (salarios <= 4500)))"
   ]
  },
  {
   "cell_type": "code",
   "execution_count": 13,
   "metadata": {},
   "outputs": [
    {
     "name": "stdout",
     "output_type": "stream",
     "text": [
      "[3150. 3675. 4200. 2000. 4725. 4200. 5000.]\n"
     ]
    }
   ],
   "source": [
    "salarios_ajustados = np.where((salarios >= 3000) & (salarios <= 4500), salarios * 1.05, salarios)\n",
    "print(salarios_ajustados)"
   ]
  },
  {
   "cell_type": "code",
   "execution_count": 14,
   "metadata": {},
   "outputs": [
    {
     "data": {
      "text/plain": [
       "(array([3, 4, 6], dtype=int64),)"
      ]
     },
     "execution_count": 14,
     "metadata": {},
     "output_type": "execute_result"
    }
   ],
   "source": [
    "np.where((salarios_ajustados < 3000) | (salarios_ajustados > 4500))"
   ]
  },
  {
   "cell_type": "code",
   "execution_count": 15,
   "metadata": {},
   "outputs": [
    {
     "name": "stdout",
     "output_type": "stream",
     "text": [
      "[3150.  3675.  4200.  2200.  5197.5 4200.  5500. ]\n"
     ]
    }
   ],
   "source": [
    "salario_segundo_ajuste = np.where((salarios_ajustados < 3000) | (salarios_ajustados > 4500), salarios_ajustados * 1.10, salarios_ajustados)\n",
    "print(salario_segundo_ajuste)"
   ]
  }
 ],
 "metadata": {
  "kernelspec": {
   "display_name": "Python 3",
   "language": "python",
   "name": "python3"
  },
  "language_info": {
   "codemirror_mode": {
    "name": "ipython",
    "version": 3
   },
   "file_extension": ".py",
   "mimetype": "text/x-python",
   "name": "python",
   "nbconvert_exporter": "python",
   "pygments_lexer": "ipython3",
   "version": "3.12.3"
  }
 },
 "nbformat": 4,
 "nbformat_minor": 2
}
