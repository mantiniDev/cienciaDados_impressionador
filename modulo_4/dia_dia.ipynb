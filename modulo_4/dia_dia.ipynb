{
 "cells": [
  {
   "cell_type": "code",
   "execution_count": 1,
   "metadata": {},
   "outputs": [],
   "source": [
    "import numpy as np"
   ]
  },
  {
   "cell_type": "code",
   "execution_count": 7,
   "metadata": {},
   "outputs": [
    {
     "name": "stdout",
     "output_type": "stream",
     "text": [
      "[22.  27.5 33.  38.5 44. ]\n"
     ]
    }
   ],
   "source": [
    "precos = np.array([20,25,30,35,40])\n",
    "#aumentar o preço em 10%\n",
    "\n",
    "precosNovos = precos * 1.1\n",
    "print(precosNovos)"
   ]
  },
  {
   "cell_type": "code",
   "execution_count": 9,
   "metadata": {},
   "outputs": [
    {
     "name": "stdout",
     "output_type": "stream",
     "text": [
      "15\n"
     ]
    }
   ],
   "source": [
    "#vendas do dia\n",
    "vendas = np.array([1,2,3,4,5])\n",
    "print(np.sum(vendas))"
   ]
  },
  {
   "cell_type": "code",
   "execution_count": 15,
   "metadata": {},
   "outputs": [
    {
     "name": "stdout",
     "output_type": "stream",
     "text": [
      " A media foi de 241.43\n"
     ]
    }
   ],
   "source": [
    "# tirar a media de uma array\n",
    "vendas = np.array([200,220,250,210,300,280,230])\n",
    "mediaVendas = np.mean(vendas)\n",
    "print(f\" A media foi de {mediaVendas:.2f}\")"
   ]
  },
  {
   "cell_type": "code",
   "execution_count": 13,
   "metadata": {},
   "outputs": [
    {
     "name": "stdout",
     "output_type": "stream",
     "text": [
      "300\n",
      "200\n"
     ]
    }
   ],
   "source": [
    "# tirar max e min\n",
    "vendas = np.array([200,220,250,210,300,280,230])\n",
    "maximo = np.max(vendas)\n",
    "minimo = np.min(vendas)\n",
    "print(maximo)\n",
    "print(minimo)"
   ]
  }
 ],
 "metadata": {
  "kernelspec": {
   "display_name": "Python 3",
   "language": "python",
   "name": "python3"
  },
  "language_info": {
   "codemirror_mode": {
    "name": "ipython",
    "version": 3
   },
   "file_extension": ".py",
   "mimetype": "text/x-python",
   "name": "python",
   "nbconvert_exporter": "python",
   "pygments_lexer": "ipython3",
   "version": "3.12.3"
  }
 },
 "nbformat": 4,
 "nbformat_minor": 2
}
