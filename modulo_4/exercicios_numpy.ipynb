{
 "cells": [
  {
   "cell_type": "code",
   "execution_count": 1,
   "metadata": {},
   "outputs": [
    {
     "name": "stdout",
     "output_type": "stream",
     "text": [
      "A Média das vendas referente as úlitmos 7 dias foi de R$ 159.0\n"
     ]
    }
   ],
   "source": [
    "#dado os último 7 dias de vendas de produtos [127, 90, 201, 150,210,220,115], calcule a média de vendas durante a semana.\n",
    "\n",
    "import numpy as np\n",
    "from tabulate import tabulate \n",
    "\n",
    "dados = [127, 90, 201, 150,210,220,115]\n",
    "dados_array = np.array(dados)\n",
    "media = np.mean(dados_array)\n",
    "print(f'A Média das vendas referente as úlitmos 7 dias foi de R$ {media}')\n",
    "\n"
   ]
  },
  {
   "cell_type": "code",
   "execution_count": 5,
   "metadata": {},
   "outputs": [
    {
     "name": "stdout",
     "output_type": "stream",
     "text": [
      "Preço Máximo de vendas: R$ 31.60; Preço Mínimo de vendas: R$ 30.95; Variação de Preço: 0.65\n"
     ]
    }
   ],
   "source": [
    "#Com os preços de uma ação na semana precos = np.array([31.40, 31.25, 30.95, 31.20, 32.60, 31.50]) Calcular Preço máximo, míniomo e variação.\n",
    "precos = np.array([31.40, 31.25, 30.95, 31.20, 31.60, 31.50])\n",
    "\n",
    "preco_maximo = np.max(precos)\n",
    "preco_minimo = np.min(precos)\n",
    "preco_variacao = preco_maximo - preco_minimo\n",
    "\n",
    "print(f'Preço Máximo de vendas: R$ {preco_maximo:.2f}; Preço Mínimo de vendas: R$ {preco_minimo:.2f}; Variação de Preço: {preco_variacao:.2f}')\n"
   ]
  },
  {
   "cell_type": "code",
   "execution_count": 12,
   "metadata": {},
   "outputs": [
    {
     "name": "stdout",
     "output_type": "stream",
     "text": [
      "Total de valroes vendidos foi de R$ 1200.00. \n"
     ]
    }
   ],
   "source": [
    "#A loja vendeu em um dia:\n",
    "# 5 unidades do produto A;\n",
    "# 3 unidade do produto B;\n",
    "# 2 unidade do produto C;\n",
    "# Os preços dos prosuto são respectivamente 100, 200, 50.\n",
    "# Calcule o total de vendas.\n",
    "\n",
    "quantidade = np.array([5, 3, 2])\n",
    "valores = np.array([100, 200, 50])\n",
    "\n",
    "#total_valores = quantidade * valores\n",
    "#soma_total = np.sum(total_valores)\n",
    "soma_total = np.dot(quantidade, valores)\n",
    "print(f'Total de valroes vendidos foi de R$ {soma_total:.2f}. ')"
   ]
  }
 ],
 "metadata": {
  "kernelspec": {
   "display_name": "Python 3",
   "language": "python",
   "name": "python3"
  },
  "language_info": {
   "codemirror_mode": {
    "name": "ipython",
    "version": 3
   },
   "file_extension": ".py",
   "mimetype": "text/x-python",
   "name": "python",
   "nbconvert_exporter": "python",
   "pygments_lexer": "ipython3",
   "version": "3.12.3"
  }
 },
 "nbformat": 4,
 "nbformat_minor": 2
}
